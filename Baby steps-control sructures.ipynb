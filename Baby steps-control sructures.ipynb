{
 "cells": [
  {
   "cell_type": "code",
   "execution_count": 1,
   "metadata": {},
   "outputs": [
    {
     "name": "stdout",
     "output_type": "stream",
     "text": [
      "Welcome to Assignment-1\n"
     ]
    }
   ],
   "source": [
    "print(\"Welcome to Assignment-1\")"
   ]
  },
  {
   "cell_type": "code",
   "execution_count": 14,
   "metadata": {},
   "outputs": [
    {
     "name": "stdout",
     "output_type": "stream",
     "text": [
      "Enter the number :10\n",
      "Enter the number :30\n",
      "Num1= 10\n",
      "Num2= 30\n",
      "Add= 40\n"
     ]
    }
   ],
   "source": [
    "Num1=(int(input(\"Enter the number :\")))\n",
    "Num2=(int(input(\"Enter the number :\")))\n",
    "Add=Num1+Num2\n",
    "print(\"Num1=\",Num1)\n",
    "print(\"Num2=\",Num2)\n",
    "print(\"Add=\",Add)\n"
   ]
  },
  {
   "cell_type": "code",
   "execution_count": 12,
   "metadata": {},
   "outputs": [
    {
     "name": "stdout",
     "output_type": "stream",
     "text": [
      "Enter the BMI index :19.6\n",
      "Normal.\n"
     ]
    }
   ],
   "source": [
    "BMI=(float(input(\"Enter the BMI index :\")))\n",
    "if (BMI <18.5):\n",
    "        print(\"Underweight.\")\n",
    "elif (BMI <=24.9):\n",
    "    print(\"Normal.\")\n",
    "elif (BMI <=29.9):\n",
    "    print(\"Overweight.\")\n",
    "else:\n",
    "    print(\"Obese.\")"
   ]
  },
  {
   "cell_type": "code",
   "execution_count": null,
   "metadata": {},
   "outputs": [],
   "source": []
  },
  {
   "cell_type": "code",
   "execution_count": null,
   "metadata": {},
   "outputs": [],
   "source": []
  }
 ],
 "metadata": {
  "kernelspec": {
   "display_name": "Python 3",
   "language": "python",
   "name": "python3"
  },
  "language_info": {
   "codemirror_mode": {
    "name": "ipython",
    "version": 3
   },
   "file_extension": ".py",
   "mimetype": "text/x-python",
   "name": "python",
   "nbconvert_exporter": "python",
   "pygments_lexer": "ipython3",
   "version": "3.7.4"
  }
 },
 "nbformat": 4,
 "nbformat_minor": 2
}
