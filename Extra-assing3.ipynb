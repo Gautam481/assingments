{
 "cells": [
  {
   "cell_type": "code",
   "execution_count": 34,
   "metadata": {},
   "outputs": [
    {
     "name": "stdout",
     "output_type": "stream",
     "text": [
      "value :10\n",
      "Correct\n"
     ]
    }
   ],
   "source": [
    "num=(int(input(\"value :\")))\n",
    "if(num==10):\n",
    "    print(\"Correct\")\n",
    "\n",
    "    \n"
   ]
  },
  {
   "cell_type": "code",
   "execution_count": 42,
   "metadata": {},
   "outputs": [
    {
     "name": "stdout",
     "output_type": "stream",
     "text": [
      "Enter the password :HOPE@123\n",
      "your password is correct\n"
     ]
    }
   ],
   "source": [
    "password=\"HOPE@123\"\n",
    "strn=input(\"Enter the password :\")\n",
    "if strn==password:\n",
    "    \n",
    "    print (\"your password is correct\")\n",
    "else:\n",
    "    print(\"unauthorised user\")\n"
   ]
  },
  {
   "cell_type": "code",
   "execution_count": 44,
   "metadata": {},
   "outputs": [
    {
     "name": "stdout",
     "output_type": "stream",
     "text": [
      "Enter the age75\n",
      "senior citizen\n"
     ]
    }
   ],
   "source": [
    "age=(int(input(\"Enter the age\")))\n",
    "if(age<18):\n",
    "    print(\"children\")\n",
    "elif(age<35):\n",
    "    print(\"adult\")\n",
    "elif(age<58):\n",
    "    print(\"citizen\")\n",
    "elif(age>58):\n",
    "    print(\"senior citizen\")"
   ]
  },
  {
   "cell_type": "code",
   "execution_count": 45,
   "metadata": {},
   "outputs": [
    {
     "name": "stdout",
     "output_type": "stream",
     "text": [
      "enter the number :-2\n",
      "the entered number is negative\n"
     ]
    }
   ],
   "source": [
    "num=(int(input(\"enter the number :\")))\n",
    "if(num>=0):\n",
    "    print(\"the entered number is positive\")\n",
    "else:\n",
    "    print(\"the entered number is negative\")"
   ]
  },
  {
   "cell_type": "code",
   "execution_count": 47,
   "metadata": {},
   "outputs": [
    {
     "name": "stdout",
     "output_type": "stream",
     "text": [
      "enter the number :89\n",
      "No ,the no is not divisible of 5\n"
     ]
    }
   ],
   "source": [
    "num=(int(input(\"enter the number :\")))\n",
    "if(num%5==0):\n",
    "    print(\"yes the no is divisiblle by 5\")\n",
    "else:\n",
    "    print(\"No ,the no is not divisible of 5\")"
   ]
  },
  {
   "cell_type": "code",
   "execution_count": null,
   "metadata": {},
   "outputs": [],
   "source": []
  }
 ],
 "metadata": {
  "kernelspec": {
   "display_name": "Python 3",
   "language": "python",
   "name": "python3"
  },
  "language_info": {
   "codemirror_mode": {
    "name": "ipython",
    "version": 3
   },
   "file_extension": ".py",
   "mimetype": "text/x-python",
   "name": "python",
   "nbconvert_exporter": "python",
   "pygments_lexer": "ipython3",
   "version": "3.7.4"
  }
 },
 "nbformat": 4,
 "nbformat_minor": 2
}
