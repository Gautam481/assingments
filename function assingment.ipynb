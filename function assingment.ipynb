{
 "cells": [
  {
   "cell_type": "code",
   "execution_count": 79,
   "metadata": {},
   "outputs": [],
   "source": [
    "def Subfields():\n",
    "    print(\"Subfields in AI are :\")\n",
    "    topics=('Machine Learning','Neural Networks', 'Vision', 'Robotics' ,'Speech Processing' ,'Natural Language Processing')\n",
    "    \n",
    "    return topics\n",
    "        \n",
    "        \n",
    "    \n",
    "\n"
   ]
  },
  {
   "cell_type": "code",
   "execution_count": 80,
   "metadata": {},
   "outputs": [
    {
     "name": "stdout",
     "output_type": "stream",
     "text": [
      "Subfields in AI are :\n"
     ]
    },
    {
     "data": {
      "text/plain": [
       "('Machine Learning',\n",
       " 'Neural Networks',\n",
       " 'Vision',\n",
       " 'Robotics',\n",
       " 'Speech Processing',\n",
       " 'Natural Language Processing')"
      ]
     },
     "execution_count": 80,
     "metadata": {},
     "output_type": "execute_result"
    }
   ],
   "source": [
    "Subfields()\n"
   ]
  },
  {
   "cell_type": "code",
   "execution_count": 145,
   "metadata": {},
   "outputs": [],
   "source": [
    "def oddeven():\n",
    "    num=(int(input(\"enter the value -\")))\n",
    "    if (num%2==1):\n",
    "        \n",
    "        message=(num,\"is a odd number\")\n",
    "    else:\n",
    "        message=(num,\"is a even number\")\n",
    "    return message"
   ]
  },
  {
   "cell_type": "code",
   "execution_count": 146,
   "metadata": {},
   "outputs": [
    {
     "name": "stdout",
     "output_type": "stream",
     "text": [
      "enter the value -78\n"
     ]
    },
    {
     "data": {
      "text/plain": [
       "(78, 'is a even number')"
      ]
     },
     "execution_count": 146,
     "metadata": {},
     "output_type": "execute_result"
    }
   ],
   "source": [
    "oddeven()"
   ]
  },
  {
   "cell_type": "code",
   "execution_count": 168,
   "metadata": {},
   "outputs": [],
   "source": [
    "def eligible():\n",
    "    name=input(\"Enter Your Gender :\")\n",
    "    print(\"Your gender :\",name)\n",
    "    age=(int(input(\"enter the age:\")))\n",
    "    if(age<18):\n",
    "        print(\"Your age :\",age)\n",
    "        message=\"NOT ELIGIBLE\"\n",
    "    else:\n",
    "        message=\"ELIGIBLE\"\n",
    "    return message\n"
   ]
  },
  {
   "cell_type": "code",
   "execution_count": 169,
   "metadata": {},
   "outputs": [
    {
     "name": "stdout",
     "output_type": "stream",
     "text": [
      "Enter Your Gender :Male\n",
      "Your gender : Male\n",
      "enter the age:9\n",
      "Your age : 9\n"
     ]
    },
    {
     "data": {
      "text/plain": [
       "'NOT ELIGIBLE'"
      ]
     },
     "execution_count": 169,
     "metadata": {},
     "output_type": "execute_result"
    }
   ],
   "source": [
    "eligible()"
   ]
  },
  {
   "cell_type": "code",
   "execution_count": 195,
   "metadata": {},
   "outputs": [
    {
     "name": "stdout",
     "output_type": "stream",
     "text": [
      "Total : 148\n",
      "percentage of total : 29.6\n"
     ]
    }
   ],
   "source": [
    "def percentage():\n",
    "    list1=[23,45,34,23,23]\n",
    "subject=0\n",
    "subject1=0\n",
    "for i in range(0,len(list1)):\n",
    "               \n",
    "               subject=subject+list1[i]\n",
    "                \n",
    "print (\"Total :\",subject)  \n",
    "subject1=100*subject/500\n",
    "print (\"percentage of total :\",subject1)\n",
    "percentage()                   "
   ]
  },
  {
   "cell_type": "code",
   "execution_count": 194,
   "metadata": {},
   "outputs": [],
   "source": [
    "percentage()"
   ]
  },
  {
   "cell_type": "code",
   "execution_count": 206,
   "metadata": {},
   "outputs": [],
   "source": [
    "def triangle():\n",
    "    Height=3\n",
    "    Breath=4\n",
    "    area=(Height*Breath)/2\n",
    "\n",
    "    print(\"area of triangle :\",area)\n",
    "\n",
    "    Height1=3\n",
    "    Height2=4\n",
    "    Breadth=45\n",
    "    Perimeter =(Height1+Height2+Breadth)\n",
    "    print(\"perimeter of triangle :\" ,Perimeter)\n",
    "\n",
    "    return (area,Perimeter)"
   ]
  },
  {
   "cell_type": "code",
   "execution_count": 207,
   "metadata": {},
   "outputs": [
    {
     "name": "stdout",
     "output_type": "stream",
     "text": [
      "area of triangle : 6.0\n",
      "perimeter of triangle : 52\n"
     ]
    },
    {
     "data": {
      "text/plain": [
       "(6.0, 52)"
      ]
     },
     "execution_count": 207,
     "metadata": {},
     "output_type": "execute_result"
    }
   ],
   "source": [
    "triangle()\n"
   ]
  },
  {
   "cell_type": "code",
   "execution_count": null,
   "metadata": {},
   "outputs": [],
   "source": []
  }
 ],
 "metadata": {
  "kernelspec": {
   "display_name": "Python 3",
   "language": "python",
   "name": "python3"
  },
  "language_info": {
   "codemirror_mode": {
    "name": "ipython",
    "version": 3
   },
   "file_extension": ".py",
   "mimetype": "text/x-python",
   "name": "python",
   "nbconvert_exporter": "python",
   "pygments_lexer": "ipython3",
   "version": "3.7.4"
  }
 },
 "nbformat": 4,
 "nbformat_minor": 2
}
