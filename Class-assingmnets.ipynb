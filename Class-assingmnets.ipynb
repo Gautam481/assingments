{
 "cells": [
  {
   "cell_type": "code",
   "execution_count": 6,
   "metadata": {},
   "outputs": [],
   "source": [
    "class SubfieldsInAI:\n",
    "    def Subfields():\n",
    "        print(\"Subfields in AI are :\")\n",
    "        topics=('Machine Learning','Neural Networks', 'Vision', 'Robotics' ,'Speech Processing' ,'Natural Language Processing')\n",
    "        return topics\n",
    "        "
   ]
  },
  {
   "cell_type": "code",
   "execution_count": 7,
   "metadata": {},
   "outputs": [
    {
     "name": "stdout",
     "output_type": "stream",
     "text": [
      "Subfields in AI are :\n"
     ]
    },
    {
     "data": {
      "text/plain": [
       "('Machine Learning',\n",
       " 'Neural Networks',\n",
       " 'Vision',\n",
       " 'Robotics',\n",
       " 'Speech Processing',\n",
       " 'Natural Language Processing')"
      ]
     },
     "execution_count": 7,
     "metadata": {},
     "output_type": "execute_result"
    }
   ],
   "source": [
    "SubfieldsInAI.Subfields()\n"
   ]
  },
  {
   "cell_type": "code",
   "execution_count": 97,
   "metadata": {},
   "outputs": [],
   "source": [
    "class ODDEVENS():\n",
    "    def oddeven():\n",
    "        i=(int(input(\"enter the value -\")))\n",
    "        if (i%2==1):\n",
    "            print(i,\"is a odd number\")\n",
    "            message=\"ODD NUMBER\"\n",
    "        else:\n",
    "            print(i,\"is a even number\")\n",
    "            message=\"EVEN NUMBER\"\n",
    "        return message"
   ]
  },
  {
   "cell_type": "code",
   "execution_count": 99,
   "metadata": {},
   "outputs": [
    {
     "name": "stdout",
     "output_type": "stream",
     "text": [
      "enter the value -52452\n",
      "52452 is a even number\n"
     ]
    },
    {
     "data": {
      "text/plain": [
       "'EVEN NUMBER'"
      ]
     },
     "execution_count": 99,
     "metadata": {},
     "output_type": "execute_result"
    }
   ],
   "source": [
    "ODDEVENS.oddeven()"
   ]
  },
  {
   "cell_type": "code",
   "execution_count": 20,
   "metadata": {},
   "outputs": [],
   "source": [
    "class eligibleformarriage():\n",
    "    def eligibleformen():\n",
    "        print(\"Your gender is male\")\n",
    "        age=(int(input(\" your age is :\")))\n",
    "        if(age>21):\n",
    "            print(\"YOUR ELIGIBLE\")\n",
    "            message=\"YOUR ELIGIBLE\"\n",
    "        else:\n",
    "            message=\"YOUR NOT ELIGIBLE\"\n",
    "            return message\n",
    "    def eligibleforwomen():\n",
    "        print(\"Your gender is female\")\n",
    "        age=(int(input(\" your age is :\")))\n",
    "        if(age>18):\n",
    "            print(\"YOUR ELIGIBLE\")\n",
    "            message=\"YOUR ELIGIBLE\"\n",
    "        else:\n",
    "            message=\"YOUR NOT ELIGIBLE\"\n",
    "            return message"
   ]
  },
  {
   "cell_type": "code",
   "execution_count": 21,
   "metadata": {},
   "outputs": [
    {
     "name": "stdout",
     "output_type": "stream",
     "text": [
      "Your gender is male\n",
      " your age is :54\n",
      "YOUR ELIGIBLE\n"
     ]
    }
   ],
   "source": [
    "eligibleformarriage.eligibleformen()"
   ]
  },
  {
   "cell_type": "code",
   "execution_count": 22,
   "metadata": {},
   "outputs": [
    {
     "name": "stdout",
     "output_type": "stream",
     "text": [
      "Your gender is female\n",
      " your age is :17\n"
     ]
    },
    {
     "data": {
      "text/plain": [
       "'YOUR NOT ELIGIBLE'"
      ]
     },
     "execution_count": 22,
     "metadata": {},
     "output_type": "execute_result"
    }
   ],
   "source": [
    "eligibleformarriage.eligibleforwomen()"
   ]
  },
  {
   "cell_type": "code",
   "execution_count": 53,
   "metadata": {},
   "outputs": [],
   "source": [
    "class triangle():\n",
    "    def triangle():\n",
    "        Height=3\n",
    "        Breath=4\n",
    "        area=(Height*Breath)/2\n",
    "\n",
    "        print(\"area of triangle :\",area)\n",
    "\n",
    "        Height1=3\n",
    "        Height2=4\n",
    "        Breadth=45\n",
    "        Perimeter =(Height1+Height2+Breadth)\n",
    "        print(\"perimeter of triangle :\" ,Perimeter)\n",
    "\n",
    "        return (area,Perimeter)"
   ]
  },
  {
   "cell_type": "code",
   "execution_count": 54,
   "metadata": {},
   "outputs": [
    {
     "name": "stdout",
     "output_type": "stream",
     "text": [
      "area of triangle : 6.0\n",
      "perimeter of triangle : 52\n"
     ]
    },
    {
     "data": {
      "text/plain": [
       "(6.0, 52)"
      ]
     },
     "execution_count": 54,
     "metadata": {},
     "output_type": "execute_result"
    }
   ],
   "source": [
    "triangle.triangle()"
   ]
  },
  {
   "cell_type": "code",
   "execution_count": 60,
   "metadata": {},
   "outputs": [],
   "source": [
    "class Findpercent():\n",
    "    def percentage():\n",
    "        subject1=98\n",
    "        subject2=87\n",
    "        subject3=95\n",
    "        subject4=95\n",
    "        subject5=93\n",
    "        print(\"subject1=\",subject1)\n",
    "        print(\"subject2=\",subject2)\n",
    "        print(\"subject3=\",subject3)\n",
    "        print(\"subject4=\",subject4)\n",
    "        print(\"subject5=\",subject5)\n",
    "        Total=subject1+subject2+subject3+subject4+subject5\n",
    "        print(\"Total :\",Total)\n",
    "        percentage=100*Total/500\n",
    "        print(\"Percentage :\", percentage)\n",
    "        "
   ]
  },
  {
   "cell_type": "code",
   "execution_count": 61,
   "metadata": {},
   "outputs": [
    {
     "name": "stdout",
     "output_type": "stream",
     "text": [
      "subject1= 98\n",
      "subject2= 87\n",
      "subject3= 95\n",
      "subject4= 95\n",
      "subject5= 93\n",
      "Total : 468\n",
      "Percentage : 93.6\n"
     ]
    }
   ],
   "source": [
    "Findpercent.percentage()"
   ]
  },
  {
   "cell_type": "code",
   "execution_count": null,
   "metadata": {},
   "outputs": [],
   "source": []
  }
 ],
 "metadata": {
  "kernelspec": {
   "display_name": "Python 3",
   "language": "python",
   "name": "python3"
  },
  "language_info": {
   "codemirror_mode": {
    "name": "ipython",
    "version": 3
   },
   "file_extension": ".py",
   "mimetype": "text/x-python",
   "name": "python",
   "nbconvert_exporter": "python",
   "pygments_lexer": "ipython3",
   "version": "3.7.4"
  }
 },
 "nbformat": 4,
 "nbformat_minor": 2
}
