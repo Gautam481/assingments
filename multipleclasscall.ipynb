{
 "cells": [
  {
   "cell_type": "code",
   "execution_count": 9,
   "metadata": {},
   "outputs": [
    {
     "ename": "ImportError",
     "evalue": "cannot import name 'multipleFunctions' from 'multiplefunctions' (E:\\AI TAMIL\\multiplefunctions.py)",
     "output_type": "error",
     "traceback": [
      "\u001b[1;31m---------------------------------------------------------------------------\u001b[0m",
      "\u001b[1;31mImportError\u001b[0m                               Traceback (most recent call last)",
      "\u001b[1;32m<ipython-input-9-c897bde5cccd>\u001b[0m in \u001b[0;36m<module>\u001b[1;34m\u001b[0m\n\u001b[1;32m----> 1\u001b[1;33m \u001b[1;32mfrom\u001b[0m \u001b[0mmultiplefunctions\u001b[0m \u001b[1;32mimport\u001b[0m \u001b[0mmultipleFunctions\u001b[0m\u001b[1;33m\u001b[0m\u001b[1;33m\u001b[0m\u001b[0m\n\u001b[0m",
      "\u001b[1;31mImportError\u001b[0m: cannot import name 'multipleFunctions' from 'multiplefunctions' (E:\\AI TAMIL\\multiplefunctions.py)"
     ]
    }
   ],
   "source": [
    "from multiplefunctions import multipleFunctions"
   ]
  },
  {
   "cell_type": "code",
   "execution_count": 2,
   "metadata": {},
   "outputs": [],
   "source": [
    "from multiplefunctions import multipleFunctions"
   ]
  },
  {
   "cell_type": "code",
   "execution_count": 3,
   "metadata": {},
   "outputs": [
    {
     "ename": "AttributeError",
     "evalue": "type object 'multipleFunctions' has no attribute 'subfields'",
     "output_type": "error",
     "traceback": [
      "\u001b[1;31m---------------------------------------------------------------------------\u001b[0m",
      "\u001b[1;31mAttributeError\u001b[0m                            Traceback (most recent call last)",
      "\u001b[1;32m<ipython-input-3-693ba1787bcd>\u001b[0m in \u001b[0;36m<module>\u001b[1;34m\u001b[0m\n\u001b[1;32m----> 1\u001b[1;33m \u001b[0mmultipleFunctions\u001b[0m\u001b[1;33m.\u001b[0m\u001b[0msubfields\u001b[0m\u001b[1;33m(\u001b[0m\u001b[1;33m)\u001b[0m\u001b[1;33m\u001b[0m\u001b[1;33m\u001b[0m\u001b[0m\n\u001b[0m",
      "\u001b[1;31mAttributeError\u001b[0m: type object 'multipleFunctions' has no attribute 'subfields'"
     ]
    }
   ],
   "source": [
    "multipleFunctions.subfields()"
   ]
  },
  {
   "cell_type": "code",
   "execution_count": 4,
   "metadata": {},
   "outputs": [
    {
     "name": "stdout",
     "output_type": "stream",
     "text": [
      "Subfields in AI are :\n"
     ]
    },
    {
     "data": {
      "text/plain": [
       "('Machine Learning',\n",
       " 'Neural Networks',\n",
       " 'Vision',\n",
       " 'Robotics',\n",
       " 'Speech Processing',\n",
       " 'Natural Language Processing')"
      ]
     },
     "execution_count": 4,
     "metadata": {},
     "output_type": "execute_result"
    }
   ],
   "source": [
    "multipleFunctions.Subfields()"
   ]
  },
  {
   "cell_type": "code",
   "execution_count": 5,
   "metadata": {},
   "outputs": [
    {
     "name": "stdout",
     "output_type": "stream",
     "text": [
      "enter the value -5\n",
      "5 is a odd number\n"
     ]
    },
    {
     "data": {
      "text/plain": [
       "'ODD NUMBER'"
      ]
     },
     "execution_count": 5,
     "metadata": {},
     "output_type": "execute_result"
    }
   ],
   "source": [
    "multipleFunctions.oddeven()"
   ]
  },
  {
   "cell_type": "code",
   "execution_count": 6,
   "metadata": {},
   "outputs": [
    {
     "name": "stdout",
     "output_type": "stream",
     "text": [
      "Your gender is male\n",
      " your age is :26\n",
      "YOUR ELIGIBLE\n"
     ]
    }
   ],
   "source": [
    "multipleFunctions.eligibleformen()"
   ]
  },
  {
   "cell_type": "code",
   "execution_count": 7,
   "metadata": {},
   "outputs": [
    {
     "name": "stdout",
     "output_type": "stream",
     "text": [
      "Your gender is female\n",
      " your age is :8\n"
     ]
    },
    {
     "data": {
      "text/plain": [
       "'YOUR NOT ELIGIBLE'"
      ]
     },
     "execution_count": 7,
     "metadata": {},
     "output_type": "execute_result"
    }
   ],
   "source": [
    "multipleFunctions.eligibleforwomen()"
   ]
  },
  {
   "cell_type": "code",
   "execution_count": 9,
   "metadata": {},
   "outputs": [
    {
     "name": "stdout",
     "output_type": "stream",
     "text": [
      "area of triangle : 6.0\n",
      "perimeter of triangle : 52\n"
     ]
    },
    {
     "data": {
      "text/plain": [
       "(6.0, 52)"
      ]
     },
     "execution_count": 9,
     "metadata": {},
     "output_type": "execute_result"
    }
   ],
   "source": [
    "multipleFunctions.triangle()\n",
    "    "
   ]
  },
  {
   "cell_type": "code",
   "execution_count": 10,
   "metadata": {},
   "outputs": [
    {
     "name": "stdout",
     "output_type": "stream",
     "text": [
      "subject1= 98\n",
      "subject2= 87\n",
      "subject3= 95\n",
      "subject4= 95\n",
      "subject5= 93\n",
      "Total : 468\n",
      "Percentage : 93.6\n"
     ]
    }
   ],
   "source": [
    "multipleFunctions.percentage()"
   ]
  },
  {
   "cell_type": "code",
   "execution_count": null,
   "metadata": {},
   "outputs": [],
   "source": []
  }
 ],
 "metadata": {
  "kernelspec": {
   "display_name": "Python 3",
   "language": "python",
   "name": "python3"
  },
  "language_info": {
   "codemirror_mode": {
    "name": "ipython",
    "version": 3
   },
   "file_extension": ".py",
   "mimetype": "text/x-python",
   "name": "python",
   "nbconvert_exporter": "python",
   "pygments_lexer": "ipython3",
   "version": "3.7.4"
  }
 },
 "nbformat": 4,
 "nbformat_minor": 2
}
